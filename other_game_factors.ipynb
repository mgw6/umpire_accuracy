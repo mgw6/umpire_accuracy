{
 "cells": [
  {
   "cell_type": "code",
   "execution_count": 2,
   "id": "dd7d92a5",
   "metadata": {},
   "outputs": [],
   "source": [
    "import pandas as pd\n",
    "import numpy as np\n",
    "import time\n",
    "from joblib import Parallel, delayed\n",
    "import pybaseball\n",
    "pd.options.mode.chained_assignment = None \n",
    "from date_num import date_num\n",
    "#https://stackoverflow.com/questions/20625582/how-to-deal-with-settingwithcopywarning-in-pandas"
   ]
  },
  {
   "cell_type": "code",
   "execution_count": 3,
   "id": "71344fb9",
   "metadata": {},
   "outputs": [],
   "source": [
    "#ho_aw = home/away, I wanted to use a different variable than the df to keep them straight\n",
    "# Can be \"Home\" or \"@\"\n",
    "make_time_double = lambda x: float(x['Time'].split(\":\")[0]) + (float(x['Time'].split(\":\")[1])/60)\n",
    "\n",
    "\n",
    "\n",
    "def get_szn_schedule(year, team, ho_aw = None):\n",
    "    data = pybaseball.schedule_and_record(year, team)\n",
    "    data = data[['Date', 'Tm', 'Home_Away', 'Opp', 'R', 'RA', 'Inn', 'Time', 'D/N', 'Attendance', 'cLI']]\n",
    "    data['Run Difference'] = np.abs(data['R'] - data['RA'])\n",
    "    \n",
    "    if ho_aw != None:\n",
    "        data = data[data[\"Home_Away\"] == ho_aw]\n",
    "\n",
    "    data['Time Double'] = data.apply(make_time_double, axis = 1)\n",
    "    data = data.drop('Time', axis = 1)\n",
    "    \n",
    "    data['Year'] = year\n",
    "    return data"
   ]
  },
  {
   "cell_type": "code",
   "execution_count": 4,
   "id": "726d8794",
   "metadata": {},
   "outputs": [],
   "source": [
    "team_list = [\"ARI\", \"ATL\", \"BAL\", \"BOS\", \"CHW\", \"CHC\", \"CIN\", \"CLE\", \"COL\", \"DET\", \"HOU\", \"KC\", \"LAA\", \n",
    "             \"LAD\", \"MIA\", \"MIL\", \"MIN\", \"NYM\", \"NYY\", \"OAK\", \"PHI\", \"PIT\", \"SD\", \"SF\", \"SEA\", \"STL\", \n",
    "            \"TBR\", \"TEX\", \"TOR\", \"WSN\"]\n",
    "year_list = [2017, 2018, 2019, 2020, 2021]\n",
    "\n",
    "calc_total_cLI = lambda y: float(y['Home cLI']) + float(y['Away cLI'])"
   ]
  },
  {
   "cell_type": "code",
   "execution_count": 5,
   "id": "dbc78d86",
   "metadata": {},
   "outputs": [
    {
     "name": "stdout",
     "output_type": "stream",
     "text": [
      "Starting year: 2017\n",
      "Starting year: 2018\n",
      "Starting year: 2019\n",
      "Starting year: 2020\n",
      "Starting year: 2021\n",
      "Concattenating and dropping\n",
      "Done\n"
     ]
    }
   ],
   "source": [
    "df_list = []\n",
    "for year in year_list:\n",
    "    print(f'Starting year: {year}')\n",
    "    \n",
    "    series_list = Parallel(n_jobs = -1)(\n",
    "        delayed(get_szn_schedule)(year, team, \"Home\") for team in team_list)\n",
    "    home_games = pd.concat(series_list, axis = 0)\n",
    "    \n",
    "    series_list = Parallel(n_jobs = -1)(\n",
    "        delayed(get_szn_schedule)(year, team, \"@\") for team in team_list)\n",
    "    away_games = pd.concat(series_list, axis = 0)\\\n",
    "        .drop(['Home_Away', 'Run Difference', 'Time Double', 'Year', 'D/N', 'Inn', \n",
    "               'Tm', 'Attendance'], axis = 1)\n",
    "    \n",
    "    \n",
    "    all_games = pd.merge(left = home_games, \n",
    "                    right = away_games, \n",
    "                    left_on = ['Date', 'Tm', 'R', 'RA'],\n",
    "                    right_on = ['Date', 'Opp', 'RA', 'R']\n",
    "        ).drop(['Opp_y', 'R_y', 'RA_y'], axis = 1)\n",
    "    \n",
    "    df_list.append(all_games)\n",
    "    #break\n",
    " \n",
    "print(\"Concattenating and dropping\")\n",
    "all_games = pd.concat(df_list, axis = 0, ignore_index = True)\n",
    "all_games = all_games.rename({\n",
    "    'Tm' : 'Home Team',\n",
    "    'Opp_x' : 'Away Team',\n",
    "    'R_x' : 'Home Score',\n",
    "    'RA_x' : 'Away Score',\n",
    "    'cLI_x' : 'Home cLI',\n",
    "    'cLI_y' : 'Away cLI',\n",
    "}, axis = 'columns').drop('Home_Away', axis = 1)\n",
    "\n",
    "\n",
    "all_games['Total cLI'] = pd.NA\n",
    "#Def not best practice to iterrows but it works\n",
    "#and I don't have time to figure out why the lambda fxn didn't\n",
    "for index, row in all_games.iterrows():\n",
    "    \n",
    "    try:\n",
    "        all_games.at[index, 'Total cLI'] = \\\n",
    "            float(row['Home cLI']) + float(row['Away cLI'])\n",
    "    except:\n",
    "        all_games.at[index, 'Total cLI'] = pd.NA\n",
    "    \n",
    "    #break\n",
    "    #print(row['Date'])    \n",
    "    temp_date = row['Date'].split(',')[1].split(' ')\n",
    "    \n",
    "    if int(temp_date[2]) < 10:\n",
    "        temp_date[2] = '0' + temp_date[2]\n",
    "    \n",
    "    if temp_date[1] == 'Mar':\n",
    "        all_games.at[index, 'Date'] = \\\n",
    "            str(row['Year']) + '-03-' + temp_date[2]\n",
    "        \n",
    "    elif temp_date[1] == 'Apr':\n",
    "        all_games.at[index, 'Date'] = \\\n",
    "            str(row['Year']) + '-04-' + temp_date[2]\n",
    "    \n",
    "    elif temp_date[1] == 'May':\n",
    "        all_games.at[index, 'Date'] = \\\n",
    "            str(row['Year']) + '-05-' + temp_date[2]\n",
    "    \n",
    "    elif temp_date[1] == 'Jun':\n",
    "        all_games.at[index, 'Date'] = \\\n",
    "            str(row['Year']) + '-06-' + temp_date[2]\n",
    "    \n",
    "    elif temp_date[1] == 'Jul':\n",
    "        all_games.at[index, 'Date'] = \\\n",
    "            str(row['Year']) + '-07-' + temp_date[2]\n",
    "    \n",
    "    elif temp_date[1] == 'Aug':\n",
    "        all_games.at[index, 'Date'] = \\\n",
    "            str(row['Year']) + '-08-' + temp_date[2]\n",
    "    \n",
    "    elif temp_date[1] == 'Sep':\n",
    "        all_games.at[index, 'Date'] = \\\n",
    "            str(row['Year']) + '-09-' + temp_date[2]\n",
    "    \n",
    "    elif temp_date[1] == 'Oct':\n",
    "        all_games.at[index, 'Date'] = \\\n",
    "            str(row['Year']) + '-10-' + temp_date[2]\n",
    "    else:\n",
    "        print(row['Date'])\n",
    "    \n",
    "print(\"Done\")"
   ]
  },
  {
   "cell_type": "markdown",
   "id": "6912f5ae",
   "metadata": {},
   "source": [
    "I have successfully compiled a df that has date, home, away, home score, away score, num inns, D/N, Attendance, cLI for both teams, run differential and time. \n",
    "\n",
    "Now I want to get weather conditions, so I have temp and precip, and then I think that would be enough for a regression. \n",
    "\n",
    "I think it'd be best if I wrote a quick .py file that took a home team as an input and returned a meteostat point with the ballpark's location"
   ]
  },
  {
   "cell_type": "markdown",
   "id": "c5d401c6",
   "metadata": {},
   "source": [
    "Next, lets write a function that takes in a series (of a game) and then returns the series with the weather data. Since its a function we can parallelize it again."
   ]
  },
  {
   "cell_type": "code",
   "execution_count": 6,
   "id": "0d486ccc",
   "metadata": {},
   "outputs": [],
   "source": [
    "from get_weather import park_weather\n",
    "\n",
    "def add_weather(game):\n",
    "    \n",
    "    weather = park_weather(game['Home Team'], game['Date'])\n",
    "    game = game.append(weather.iloc[0])\n",
    "    game = game.append(pd.Series({\n",
    "        'day_num_of_year' : date_num(game['Date'])\n",
    "    }))\n",
    "    return game.drop(['tmin', 'tmax', 'wdir', 'wpgt', 'pres', 'tsun'])"
   ]
  },
  {
   "cell_type": "markdown",
   "id": "afede472",
   "metadata": {},
   "source": [
    "# Disclaimer about the next block in Parallel:\n",
    "It crashes frequently, and gives an error that says \"Ran out of input\". I can't figure out exactly what this means. This Parallel function is using the add_weather function I wrote, which calls the park_weather function I wrote, which is calling a function from meteostat. My theory is that the meteostat function is already in parallel, so I'm parallelizing a parallel function, and somewhere in there things just get jumbled up. \n",
    "\n",
    "My solution to this? Well sometimes it crashes and sometimes it doesn't. I don't have the time to wait for this to run in series, so just keep trying to run it in parallel (which if it completes can take 4 - 8 minutes for one run) and eventually it works. "
   ]
  },
  {
   "cell_type": "code",
   "execution_count": 7,
   "id": "556f996d",
   "metadata": {},
   "outputs": [
    {
     "name": "stderr",
     "output_type": "stream",
     "text": [
      "[Parallel(n_jobs=3)]: Using backend LokyBackend with 3 concurrent workers.\n",
      "[Parallel(n_jobs=3)]: Done  41 tasks      | elapsed:    5.9s\n",
      "[Parallel(n_jobs=3)]: Done 300 tasks      | elapsed:   24.9s\n"
     ]
    },
    {
     "ename": "EOFError",
     "evalue": "Ran out of input",
     "output_type": "error",
     "traceback": [
      "\u001b[1;31m---------------------------------------------------------------------------\u001b[0m",
      "\u001b[1;31m_RemoteTraceback\u001b[0m                          Traceback (most recent call last)",
      "\u001b[1;31m_RemoteTraceback\u001b[0m: \n\"\"\"\nTraceback (most recent call last):\n  File \"C:\\Users\\User\\AppData\\Local\\Packages\\PythonSoftwareFoundation.Python.3.10_qbz5n2kfra8p0\\LocalCache\\local-packages\\Python310\\site-packages\\joblib\\externals\\loky\\process_executor.py\", line 436, in _process_worker\n    r = call_item()\n  File \"C:\\Users\\User\\AppData\\Local\\Packages\\PythonSoftwareFoundation.Python.3.10_qbz5n2kfra8p0\\LocalCache\\local-packages\\Python310\\site-packages\\joblib\\externals\\loky\\process_executor.py\", line 288, in __call__\n    return self.fn(*self.args, **self.kwargs)\n  File \"C:\\Users\\User\\AppData\\Local\\Packages\\PythonSoftwareFoundation.Python.3.10_qbz5n2kfra8p0\\LocalCache\\local-packages\\Python310\\site-packages\\joblib\\_parallel_backends.py\", line 595, in __call__\n    return self.func(*args, **kwargs)\n  File \"C:\\Users\\User\\AppData\\Local\\Packages\\PythonSoftwareFoundation.Python.3.10_qbz5n2kfra8p0\\LocalCache\\local-packages\\Python310\\site-packages\\joblib\\parallel.py\", line 262, in __call__\n    return [func(*args, **kwargs)\n  File \"C:\\Users\\User\\AppData\\Local\\Packages\\PythonSoftwareFoundation.Python.3.10_qbz5n2kfra8p0\\LocalCache\\local-packages\\Python310\\site-packages\\joblib\\parallel.py\", line 262, in <listcomp>\n    return [func(*args, **kwargs)\n  File \"C:\\Users\\User\\AppData\\Local\\Temp\\ipykernel_21144\\3888595262.py\", line 5, in add_weather\n  File \"C:\\Users\\User\\ECON416\\umpire_accuracy\\get_weather.py\", line 87, in park_weather\n    weather = Daily(get_park_loc(home_team), date, date)\n  File \"C:\\Users\\User\\AppData\\Local\\Packages\\PythonSoftwareFoundation.Python.3.10_qbz5n2kfra8p0\\LocalCache\\local-packages\\Python310\\site-packages\\meteostat\\interface\\daily.py\", line 100, in __init__\n    self._init_time_series(loc, start, end, model, flags)\n  File \"C:\\Users\\User\\AppData\\Local\\Packages\\PythonSoftwareFoundation.Python.3.10_qbz5n2kfra8p0\\LocalCache\\local-packages\\Python310\\site-packages\\meteostat\\interface\\timeseries.py\", line 181, in _init_time_series\n    self._data = self._get_data()\n  File \"C:\\Users\\User\\AppData\\Local\\Packages\\PythonSoftwareFoundation.Python.3.10_qbz5n2kfra8p0\\LocalCache\\local-packages\\Python310\\site-packages\\meteostat\\interface\\meteodata.py\", line 132, in _get_data\n    return processing_handler(\n  File \"C:\\Users\\User\\AppData\\Local\\Packages\\PythonSoftwareFoundation.Python.3.10_qbz5n2kfra8p0\\LocalCache\\local-packages\\Python310\\site-packages\\meteostat\\core\\loader.py\", line 62, in processing_handler\n    output.append(load(*dataset))\n  File \"C:\\Users\\User\\AppData\\Local\\Packages\\PythonSoftwareFoundation.Python.3.10_qbz5n2kfra8p0\\LocalCache\\local-packages\\Python310\\site-packages\\meteostat\\interface\\meteodata.py\", line 62, in _load_data\n    df = pd.read_pickle(path)\n  File \"C:\\Users\\User\\AppData\\Local\\Packages\\PythonSoftwareFoundation.Python.3.10_qbz5n2kfra8p0\\LocalCache\\local-packages\\Python310\\site-packages\\pandas\\io\\pickle.py\", line 217, in read_pickle\n    return pickle.load(handles.handle)  # type: ignore[arg-type]\nEOFError: Ran out of input\n\"\"\"",
      "\nThe above exception was the direct cause of the following exception:\n",
      "\u001b[1;31mEOFError\u001b[0m                                  Traceback (most recent call last)",
      "Input \u001b[1;32mIn [7]\u001b[0m, in \u001b[0;36m<cell line: 1>\u001b[1;34m()\u001b[0m\n\u001b[1;32m----> 1\u001b[0m series_list \u001b[38;5;241m=\u001b[39m \u001b[43mParallel\u001b[49m\u001b[43m(\u001b[49m\u001b[43mn_jobs\u001b[49m\u001b[43m \u001b[49m\u001b[38;5;241;43m=\u001b[39;49m\u001b[43m \u001b[49m\u001b[38;5;241;43m3\u001b[39;49m\u001b[43m,\u001b[49m\u001b[43m \u001b[49m\u001b[43mverbose\u001b[49m\u001b[43m \u001b[49m\u001b[38;5;241;43m=\u001b[39;49m\u001b[43m \u001b[49m\u001b[38;5;241;43m2\u001b[39;49m\u001b[43m)\u001b[49m\u001b[43m(\u001b[49m\u001b[43mdelayed\u001b[49m\u001b[43m(\u001b[49m\u001b[43madd_weather\u001b[49m\u001b[43m)\u001b[49m\u001b[43m(\u001b[49m\u001b[43mgame\u001b[49m\u001b[43m)\u001b[49m\u001b[43m \u001b[49m\u001b[38;5;28;43;01mfor\u001b[39;49;00m\u001b[43m \u001b[49m\u001b[43mindex\u001b[49m\u001b[43m,\u001b[49m\u001b[43m \u001b[49m\u001b[43mgame\u001b[49m\u001b[43m \u001b[49m\u001b[38;5;129;43;01min\u001b[39;49;00m\u001b[43m \u001b[49m\u001b[43mall_games\u001b[49m\u001b[38;5;241;43m.\u001b[39;49m\u001b[43miterrows\u001b[49m\u001b[43m(\u001b[49m\u001b[43m)\u001b[49m\u001b[43m)\u001b[49m\n\u001b[0;32m      2\u001b[0m home_games \u001b[38;5;241m=\u001b[39m pd\u001b[38;5;241m.\u001b[39mDataFrame(series_list)\n",
      "File \u001b[1;32m~\\AppData\\Local\\Packages\\PythonSoftwareFoundation.Python.3.10_qbz5n2kfra8p0\\LocalCache\\local-packages\\Python310\\site-packages\\joblib\\parallel.py:1056\u001b[0m, in \u001b[0;36mParallel.__call__\u001b[1;34m(self, iterable)\u001b[0m\n\u001b[0;32m   1053\u001b[0m     \u001b[38;5;28mself\u001b[39m\u001b[38;5;241m.\u001b[39m_iterating \u001b[38;5;241m=\u001b[39m \u001b[38;5;28;01mFalse\u001b[39;00m\n\u001b[0;32m   1055\u001b[0m \u001b[38;5;28;01mwith\u001b[39;00m \u001b[38;5;28mself\u001b[39m\u001b[38;5;241m.\u001b[39m_backend\u001b[38;5;241m.\u001b[39mretrieval_context():\n\u001b[1;32m-> 1056\u001b[0m     \u001b[38;5;28;43mself\u001b[39;49m\u001b[38;5;241;43m.\u001b[39;49m\u001b[43mretrieve\u001b[49m\u001b[43m(\u001b[49m\u001b[43m)\u001b[49m\n\u001b[0;32m   1057\u001b[0m \u001b[38;5;66;03m# Make sure that we get a last message telling us we are done\u001b[39;00m\n\u001b[0;32m   1058\u001b[0m elapsed_time \u001b[38;5;241m=\u001b[39m time\u001b[38;5;241m.\u001b[39mtime() \u001b[38;5;241m-\u001b[39m \u001b[38;5;28mself\u001b[39m\u001b[38;5;241m.\u001b[39m_start_time\n",
      "File \u001b[1;32m~\\AppData\\Local\\Packages\\PythonSoftwareFoundation.Python.3.10_qbz5n2kfra8p0\\LocalCache\\local-packages\\Python310\\site-packages\\joblib\\parallel.py:935\u001b[0m, in \u001b[0;36mParallel.retrieve\u001b[1;34m(self)\u001b[0m\n\u001b[0;32m    933\u001b[0m \u001b[38;5;28;01mtry\u001b[39;00m:\n\u001b[0;32m    934\u001b[0m     \u001b[38;5;28;01mif\u001b[39;00m \u001b[38;5;28mgetattr\u001b[39m(\u001b[38;5;28mself\u001b[39m\u001b[38;5;241m.\u001b[39m_backend, \u001b[38;5;124m'\u001b[39m\u001b[38;5;124msupports_timeout\u001b[39m\u001b[38;5;124m'\u001b[39m, \u001b[38;5;28;01mFalse\u001b[39;00m):\n\u001b[1;32m--> 935\u001b[0m         \u001b[38;5;28mself\u001b[39m\u001b[38;5;241m.\u001b[39m_output\u001b[38;5;241m.\u001b[39mextend(\u001b[43mjob\u001b[49m\u001b[38;5;241;43m.\u001b[39;49m\u001b[43mget\u001b[49m\u001b[43m(\u001b[49m\u001b[43mtimeout\u001b[49m\u001b[38;5;241;43m=\u001b[39;49m\u001b[38;5;28;43mself\u001b[39;49m\u001b[38;5;241;43m.\u001b[39;49m\u001b[43mtimeout\u001b[49m\u001b[43m)\u001b[49m)\n\u001b[0;32m    936\u001b[0m     \u001b[38;5;28;01melse\u001b[39;00m:\n\u001b[0;32m    937\u001b[0m         \u001b[38;5;28mself\u001b[39m\u001b[38;5;241m.\u001b[39m_output\u001b[38;5;241m.\u001b[39mextend(job\u001b[38;5;241m.\u001b[39mget())\n",
      "File \u001b[1;32m~\\AppData\\Local\\Packages\\PythonSoftwareFoundation.Python.3.10_qbz5n2kfra8p0\\LocalCache\\local-packages\\Python310\\site-packages\\joblib\\_parallel_backends.py:542\u001b[0m, in \u001b[0;36mLokyBackend.wrap_future_result\u001b[1;34m(future, timeout)\u001b[0m\n\u001b[0;32m    539\u001b[0m \u001b[38;5;124;03m\"\"\"Wrapper for Future.result to implement the same behaviour as\u001b[39;00m\n\u001b[0;32m    540\u001b[0m \u001b[38;5;124;03mAsyncResults.get from multiprocessing.\"\"\"\u001b[39;00m\n\u001b[0;32m    541\u001b[0m \u001b[38;5;28;01mtry\u001b[39;00m:\n\u001b[1;32m--> 542\u001b[0m     \u001b[38;5;28;01mreturn\u001b[39;00m \u001b[43mfuture\u001b[49m\u001b[38;5;241;43m.\u001b[39;49m\u001b[43mresult\u001b[49m\u001b[43m(\u001b[49m\u001b[43mtimeout\u001b[49m\u001b[38;5;241;43m=\u001b[39;49m\u001b[43mtimeout\u001b[49m\u001b[43m)\u001b[49m\n\u001b[0;32m    543\u001b[0m \u001b[38;5;28;01mexcept\u001b[39;00m CfTimeoutError \u001b[38;5;28;01mas\u001b[39;00m e:\n\u001b[0;32m    544\u001b[0m     \u001b[38;5;28;01mraise\u001b[39;00m \u001b[38;5;167;01mTimeoutError\u001b[39;00m \u001b[38;5;28;01mfrom\u001b[39;00m \u001b[38;5;21;01me\u001b[39;00m\n",
      "File \u001b[1;32mC:\\Program Files\\WindowsApps\\PythonSoftwareFoundation.Python.3.10_3.10.1264.0_x64__qbz5n2kfra8p0\\lib\\concurrent\\futures\\_base.py:439\u001b[0m, in \u001b[0;36mFuture.result\u001b[1;34m(self, timeout)\u001b[0m\n\u001b[0;32m    437\u001b[0m     \u001b[38;5;28;01mraise\u001b[39;00m CancelledError()\n\u001b[0;32m    438\u001b[0m \u001b[38;5;28;01melif\u001b[39;00m \u001b[38;5;28mself\u001b[39m\u001b[38;5;241m.\u001b[39m_state \u001b[38;5;241m==\u001b[39m FINISHED:\n\u001b[1;32m--> 439\u001b[0m     \u001b[38;5;28;01mreturn\u001b[39;00m \u001b[38;5;28;43mself\u001b[39;49m\u001b[38;5;241;43m.\u001b[39;49m\u001b[43m__get_result\u001b[49m\u001b[43m(\u001b[49m\u001b[43m)\u001b[49m\n\u001b[0;32m    441\u001b[0m \u001b[38;5;28mself\u001b[39m\u001b[38;5;241m.\u001b[39m_condition\u001b[38;5;241m.\u001b[39mwait(timeout)\n\u001b[0;32m    443\u001b[0m \u001b[38;5;28;01mif\u001b[39;00m \u001b[38;5;28mself\u001b[39m\u001b[38;5;241m.\u001b[39m_state \u001b[38;5;129;01min\u001b[39;00m [CANCELLED, CANCELLED_AND_NOTIFIED]:\n",
      "File \u001b[1;32mC:\\Program Files\\WindowsApps\\PythonSoftwareFoundation.Python.3.10_3.10.1264.0_x64__qbz5n2kfra8p0\\lib\\concurrent\\futures\\_base.py:391\u001b[0m, in \u001b[0;36mFuture.__get_result\u001b[1;34m(self)\u001b[0m\n\u001b[0;32m    389\u001b[0m \u001b[38;5;28;01mif\u001b[39;00m \u001b[38;5;28mself\u001b[39m\u001b[38;5;241m.\u001b[39m_exception:\n\u001b[0;32m    390\u001b[0m     \u001b[38;5;28;01mtry\u001b[39;00m:\n\u001b[1;32m--> 391\u001b[0m         \u001b[38;5;28;01mraise\u001b[39;00m \u001b[38;5;28mself\u001b[39m\u001b[38;5;241m.\u001b[39m_exception\n\u001b[0;32m    392\u001b[0m     \u001b[38;5;28;01mfinally\u001b[39;00m:\n\u001b[0;32m    393\u001b[0m         \u001b[38;5;66;03m# Break a reference cycle with the exception in self._exception\u001b[39;00m\n\u001b[0;32m    394\u001b[0m         \u001b[38;5;28mself\u001b[39m \u001b[38;5;241m=\u001b[39m \u001b[38;5;28;01mNone\u001b[39;00m\n",
      "\u001b[1;31mEOFError\u001b[0m: Ran out of input"
     ]
    }
   ],
   "source": [
    "series_list = Parallel(n_jobs = 3, verbose = 2)(delayed(add_weather)(game) for index, game in all_games.iterrows())\n",
    "home_games = pd.DataFrame(series_list)\n"
   ]
  },
  {
   "cell_type": "code",
   "execution_count": null,
   "id": "03a3c396",
   "metadata": {},
   "outputs": [],
   "source": [
    "\"\"\"\n",
    "for index, game in all_games.iterrows():\n",
    "    try:\n",
    "        add_weather(game)\n",
    "    except:\n",
    "        print(game, \"\\n\\n\")\n",
    "    if (index % 100) == 0:\n",
    "        print(\"Index:\", index)\n",
    "\"\"\""
   ]
  },
  {
   "cell_type": "code",
   "execution_count": null,
   "id": "e14e2f2e",
   "metadata": {},
   "outputs": [],
   "source": [
    "home_games.columns"
   ]
  },
  {
   "cell_type": "code",
   "execution_count": null,
   "id": "b43d8c6b",
   "metadata": {},
   "outputs": [],
   "source": [
    "#print(np.asarray(np.unique(home_games['prcp'], return_counts = True)).T)\n",
    "#home_games[home_games['tsun'] == 'NaN']\n",
    "home_games.at[home_games['snow'].isna(), 'snow'] = 0\n",
    "\n",
    "\n",
    "home_games = home_games.rename(columns = {'D/N' : 'Day'})\n",
    "home_games['Day'] = np.where((home_games['Day'] == 'D'), 1, 0 )\n",
    "np.unique(home_games['Day'])\n",
    "home_games.to_csv('data_files/other_factors.csv', index = False)"
   ]
  },
  {
   "cell_type": "code",
   "execution_count": null,
   "id": "d32e0b80",
   "metadata": {},
   "outputs": [],
   "source": [
    "home_games"
   ]
  }
 ],
 "metadata": {
  "kernelspec": {
   "display_name": "Python 3 (ipykernel)",
   "language": "python",
   "name": "python3"
  },
  "language_info": {
   "codemirror_mode": {
    "name": "ipython",
    "version": 3
   },
   "file_extension": ".py",
   "mimetype": "text/x-python",
   "name": "python",
   "nbconvert_exporter": "python",
   "pygments_lexer": "ipython3",
   "version": "3.10.4"
  }
 },
 "nbformat": 4,
 "nbformat_minor": 5
}
