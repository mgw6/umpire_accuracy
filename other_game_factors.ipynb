{
 "cells": [
  {
   "cell_type": "code",
   "execution_count": 1,
   "id": "dd7d92a5",
   "metadata": {},
   "outputs": [],
   "source": [
    "import pandas as pd\n",
    "import numpy as np\n",
    "import time\n",
    "from joblib import Parallel, delayed\n",
    "import pybaseball\n",
    "pd.options.mode.chained_assignment = None \n",
    "from date_num import date_num\n",
    "#https://stackoverflow.com/questions/20625582/how-to-deal-with-settingwithcopywarning-in-pandas"
   ]
  },
  {
   "cell_type": "code",
   "execution_count": 2,
   "id": "71344fb9",
   "metadata": {},
   "outputs": [],
   "source": [
    "#ho_aw = home/away, I wanted to use a different variable than the df to keep them straight\n",
    "# Can be \"Home\" or \"@\"\n",
    "make_time_double = lambda x: float(x['Time'].split(\":\")[0]) + (float(x['Time'].split(\":\")[1])/60)\n",
    "\n",
    "\n",
    "\n",
    "def get_szn_schedule(year, team, ho_aw = None):\n",
    "    data = pybaseball.schedule_and_record(year, team)\n",
    "    data = data[['Date', 'Tm', 'Home_Away', 'Opp', 'R', 'RA', 'Inn', 'Time', 'D/N', 'Attendance', 'cLI']]\n",
    "    data['Run Difference'] = np.abs(data['R'] - data['RA'])\n",
    "    \n",
    "    if ho_aw != None:\n",
    "        data = data[data[\"Home_Away\"] == ho_aw]\n",
    "\n",
    "    data['Time Double'] = data.apply(make_time_double, axis = 1)\n",
    "    data = data.drop('Time', axis = 1)\n",
    "    \n",
    "    data['Year'] = year\n",
    "    return data"
   ]
  },
  {
   "cell_type": "code",
   "execution_count": 3,
   "id": "726d8794",
   "metadata": {},
   "outputs": [],
   "source": [
    "team_list = [\"ARI\", \"ATL\", \"BAL\", \"BOS\", \"CHW\", \"CHC\", \"CIN\", \"CLE\", \"COL\", \"DET\", \"HOU\", \"KC\", \"LAA\", \n",
    "             \"LAD\", \"MIA\", \"MIL\", \"MIN\", \"NYM\", \"NYY\", \"OAK\", \"PHI\", \"PIT\", \"SD\", \"SF\", \"SEA\", \"STL\", \n",
    "            \"TBR\", \"TEX\", \"TOR\", \"WSN\"]\n",
    "year_list = [2017, 2018, 2019, 2020, 2021]\n",
    "\n",
    "calc_total_cLI = lambda y: float(y['Home cLI']) + float(y['Away cLI'])"
   ]
  },
  {
   "cell_type": "code",
   "execution_count": 4,
   "id": "dbc78d86",
   "metadata": {},
   "outputs": [
    {
     "name": "stdout",
     "output_type": "stream",
     "text": [
      "Starting year: 2017\n",
      "Starting year: 2018\n",
      "Starting year: 2019\n",
      "Starting year: 2020\n",
      "Starting year: 2021\n",
      "Concattenating and dropping\n",
      "Done\n"
     ]
    }
   ],
   "source": [
    "df_list = []\n",
    "for year in year_list:\n",
    "    print(f'Starting year: {year}')\n",
    "    \n",
    "    series_list = Parallel(n_jobs = -1)(\n",
    "        delayed(get_szn_schedule)(year, team, \"Home\") for team in team_list)\n",
    "    home_games = pd.concat(series_list, axis = 0)\n",
    "    \n",
    "    series_list = Parallel(n_jobs = -1)(\n",
    "        delayed(get_szn_schedule)(year, team, \"@\") for team in team_list)\n",
    "    away_games = pd.concat(series_list, axis = 0)\\\n",
    "        .drop(['Home_Away', 'Run Difference', 'Time Double', 'Year', 'D/N', 'Inn', \n",
    "               'Tm', 'Attendance'], axis = 1)\n",
    "    \n",
    "    \n",
    "    all_games = pd.merge(left = home_games, \n",
    "                    right = away_games, \n",
    "                    left_on = ['Date', 'Tm', 'R', 'RA'],\n",
    "                    right_on = ['Date', 'Opp', 'RA', 'R']\n",
    "        ).drop(['Opp_y', 'R_y', 'RA_y'], axis = 1)\n",
    "    \n",
    "    df_list.append(all_games)\n",
    "    #break\n",
    " \n",
    "print(\"Concattenating and dropping\")\n",
    "all_games = pd.concat(df_list, axis = 0, ignore_index = True)\n",
    "all_games = all_games.rename({\n",
    "    'Tm' : 'Home Team',\n",
    "    'Opp_x' : 'Away Team',\n",
    "    'R_x' : 'Home Score',\n",
    "    'RA_x' : 'Away Score',\n",
    "    'cLI_x' : 'Home cLI',\n",
    "    'cLI_y' : 'Away cLI',\n",
    "}, axis = 'columns').drop('Home_Away', axis = 1)\n",
    "\n",
    "\n",
    "all_games['Total cLI'] = pd.NA\n",
    "#Def not best practice to iterrows but it works\n",
    "#and I don't have time to figure out why the lambda fxn didn't\n",
    "for index, row in all_games.iterrows():\n",
    "    \n",
    "    try:\n",
    "        all_games.at[index, 'Total cLI'] = \\\n",
    "            float(row['Home cLI']) + float(row['Away cLI'])\n",
    "    except:\n",
    "        all_games.at[index, 'Total cLI'] = pd.NA\n",
    "    \n",
    "    #break\n",
    "    #print(row['Date'])    \n",
    "    temp_date = row['Date'].split(',')[1].split(' ')\n",
    "    \n",
    "    if int(temp_date[2]) < 10:\n",
    "        temp_date[2] = '0' + temp_date[2]\n",
    "    \n",
    "    if temp_date[1] == 'Mar':\n",
    "        all_games.at[index, 'Date'] = \\\n",
    "            str(row['Year']) + '-03-' + temp_date[2]\n",
    "        \n",
    "    elif temp_date[1] == 'Apr':\n",
    "        all_games.at[index, 'Date'] = \\\n",
    "            str(row['Year']) + '-04-' + temp_date[2]\n",
    "    \n",
    "    elif temp_date[1] == 'May':\n",
    "        all_games.at[index, 'Date'] = \\\n",
    "            str(row['Year']) + '-05-' + temp_date[2]\n",
    "    \n",
    "    elif temp_date[1] == 'Jun':\n",
    "        all_games.at[index, 'Date'] = \\\n",
    "            str(row['Year']) + '-06-' + temp_date[2]\n",
    "    \n",
    "    elif temp_date[1] == 'Jul':\n",
    "        all_games.at[index, 'Date'] = \\\n",
    "            str(row['Year']) + '-07-' + temp_date[2]\n",
    "    \n",
    "    elif temp_date[1] == 'Aug':\n",
    "        all_games.at[index, 'Date'] = \\\n",
    "            str(row['Year']) + '-08-' + temp_date[2]\n",
    "    \n",
    "    elif temp_date[1] == 'Sep':\n",
    "        all_games.at[index, 'Date'] = \\\n",
    "            str(row['Year']) + '-09-' + temp_date[2]\n",
    "    \n",
    "    elif temp_date[1] == 'Oct':\n",
    "        all_games.at[index, 'Date'] = \\\n",
    "            str(row['Year']) + '-10-' + temp_date[2]\n",
    "    else:\n",
    "        print(row['Date'])\n",
    "    \n",
    "print(\"Done\")"
   ]
  },
  {
   "cell_type": "markdown",
   "id": "6912f5ae",
   "metadata": {},
   "source": [
    "I have successfully compiled a df that has date, home, away, home score, away score, num inns, D/N, Attendance, cLI for both teams, run differential and time. \n",
    "\n",
    "Now I want to get weather conditions, so I have temp and precip, and then I think that would be enough for a regression. \n",
    "\n",
    "I think it'd be best if I wrote a quick .py file that took a home team as an input and returned a meteostat point with the ballpark's location"
   ]
  },
  {
   "cell_type": "markdown",
   "id": "c5d401c6",
   "metadata": {},
   "source": [
    "Next, lets write a function that takes in a series (of a game) and then returns the series with the weather data. Since its a function we can parallelize it again."
   ]
  },
  {
   "cell_type": "code",
   "execution_count": 5,
   "id": "0d486ccc",
   "metadata": {},
   "outputs": [],
   "source": [
    "from get_weather import park_weather\n",
    "\n",
    "def add_weather(game):\n",
    "    \n",
    "    weather = park_weather(game['Home Team'], game['Date'])\n",
    "    game = game.append(weather.iloc[0])\n",
    "    game = game.append(pd.Series({\n",
    "        'day_num_of_year' : date_num(game['Date'])\n",
    "    }))\n",
    "    return game.drop(['tmin', 'tmax', 'wdir', 'wpgt', 'pres', 'tsun'])"
   ]
  },
  {
   "cell_type": "code",
   "execution_count": 7,
   "id": "556f996d",
   "metadata": {},
   "outputs": [
    {
     "name": "stderr",
     "output_type": "stream",
     "text": [
      "[Parallel(n_jobs=3)]: Using backend LokyBackend with 3 concurrent workers.\n",
      "[Parallel(n_jobs=3)]: Done  43 tasks      | elapsed:    2.3s\n",
      "[Parallel(n_jobs=3)]: Done 285 tasks      | elapsed:    8.8s\n",
      "[Parallel(n_jobs=3)]: Done 691 tasks      | elapsed:   20.0s\n",
      "[Parallel(n_jobs=3)]: Done 1257 tasks      | elapsed:   33.5s\n",
      "[Parallel(n_jobs=3)]: Done 1987 tasks      | elapsed:   50.6s\n",
      "[Parallel(n_jobs=3)]: Done 2877 tasks      | elapsed:  1.2min\n",
      "[Parallel(n_jobs=3)]: Done 3931 tasks      | elapsed:  1.6min\n",
      "[Parallel(n_jobs=3)]: Done 5145 tasks      | elapsed:  2.0min\n",
      "[Parallel(n_jobs=3)]: Done 6523 tasks      | elapsed:  2.6min\n",
      "[Parallel(n_jobs=3)]: Done 8061 tasks      | elapsed:  3.2min\n",
      "[Parallel(n_jobs=3)]: Done 9763 tasks      | elapsed:  3.9min\n",
      "[Parallel(n_jobs=3)]: Done 10617 out of 10617 | elapsed:  4.2min finished\n"
     ]
    }
   ],
   "source": [
    "series_list = Parallel(n_jobs = 3, verbose = 2)(delayed(add_weather)(game) for index, game in all_games.iterrows())\n",
    "home_games = pd.DataFrame(series_list)\n"
   ]
  },
  {
   "cell_type": "code",
   "execution_count": null,
   "id": "03a3c396",
   "metadata": {},
   "outputs": [],
   "source": [
    "\"\"\"\n",
    "for index, game in all_games.iterrows():\n",
    "    try:\n",
    "        add_weather(game)\n",
    "    except:\n",
    "        print(game, \"\\n\\n\")\n",
    "    if (index % 100) == 0:\n",
    "        print(\"Index:\", index)\n",
    "\"\"\""
   ]
  },
  {
   "cell_type": "code",
   "execution_count": null,
   "id": "e14e2f2e",
   "metadata": {},
   "outputs": [],
   "source": [
    "home_games.columns"
   ]
  },
  {
   "cell_type": "code",
   "execution_count": 8,
   "id": "b43d8c6b",
   "metadata": {},
   "outputs": [],
   "source": [
    "#print(np.asarray(np.unique(home_games['prcp'], return_counts = True)).T)\n",
    "#home_games[home_games['tsun'] == 'NaN']\n",
    "home_games.at[home_games['snow'].isna(), 'snow'] = 0\n",
    "\n",
    "\n",
    "home_games = home_games.rename(columns = {'D/N' : 'Day'})\n",
    "home_games['Day'] = np.where((home_games['Day'] == 'D'), 1, 0 )\n",
    "np.unique(home_games['Day'])\n",
    "home_games.to_csv('data_files/other_factors.csv', index = False)"
   ]
  },
  {
   "cell_type": "code",
   "execution_count": null,
   "id": "d32e0b80",
   "metadata": {},
   "outputs": [],
   "source": [
    "home_games"
   ]
  }
 ],
 "metadata": {
  "kernelspec": {
   "display_name": "Python 3 (ipykernel)",
   "language": "python",
   "name": "python3"
  },
  "language_info": {
   "codemirror_mode": {
    "name": "ipython",
    "version": 3
   },
   "file_extension": ".py",
   "mimetype": "text/x-python",
   "name": "python",
   "nbconvert_exporter": "python",
   "pygments_lexer": "ipython3",
   "version": "3.10.4"
  }
 },
 "nbformat": 4,
 "nbformat_minor": 5
}
