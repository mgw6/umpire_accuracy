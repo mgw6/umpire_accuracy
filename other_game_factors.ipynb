{
 "cells": [
  {
   "cell_type": "code",
   "execution_count": 1,
   "id": "a834d53a",
   "metadata": {},
   "outputs": [],
   "source": [
    "import pandas as pd\n",
    "import numpy as np\n",
    "import time\n",
    "from joblib import Parallel, delayed\n",
    "import pybaseball\n",
    "pd.options.mode.chained_assignment = None \n",
    "#https://stackoverflow.com/questions/20625582/how-to-deal-with-settingwithcopywarning-in-pandas"
   ]
  },
  {
   "cell_type": "code",
   "execution_count": 2,
   "id": "7c0e8b89",
   "metadata": {},
   "outputs": [],
   "source": [
    "#ho_aw = home/away, I wanted to use a different variable than the df to keep them straight\n",
    "# Can be \"Home\" or \"@\"\n",
    "make_time_double = lambda x: float(x['Time'].split(\":\")[0]) + (float(x['Time'].split(\":\")[1])/60)\n",
    "\n",
    "def get_szn_schedule(year, team, ho_aw = None):\n",
    "    data = pybaseball.schedule_and_record(year, team)\n",
    "    data = data[['Date', 'Tm', 'Home_Away', 'Opp', 'R', 'RA', 'Inn', 'Time', 'D/N', 'Attendance', 'cLI']]\n",
    "    data['Run Difference'] = np.abs(data['R'] - data['RA'])\n",
    "    \n",
    "    if ho_aw != None:\n",
    "        data = data[data[\"Home_Away\"] == ho_aw]\n",
    "\n",
    "    data['Time Double'] = data.apply(make_time_double, axis = 1)\n",
    "    data = data.drop('Time', axis = 1)\n",
    "    \n",
    "    data['Year'] = year\n",
    "    return data"
   ]
  },
  {
   "cell_type": "code",
   "execution_count": 3,
   "id": "539a3cbc",
   "metadata": {},
   "outputs": [],
   "source": [
    "team_list = [\"ARI\", \"ATL\", \"BAL\", \"BOS\", \"CHW\", \"CHC\", \"CIN\", \"CLE\", \"COL\", \"DET\", \"HOU\", \"KC\", \"LAA\", \n",
    "             \"LAD\", \"MIA\", \"MIL\", \"MIN\", \"NYM\", \"NYY\", \"OAK\", \"PHI\", \"PIT\", \"SD\", \"SF\", \"SEA\", \"STL\", \n",
    "            \"TBR\", \"TEX\", \"TOR\", \"WSN\"]\n",
    "year_list = [2017, 2018, 2019, 2020, 2021]"
   ]
  },
  {
   "cell_type": "code",
   "execution_count": 4,
   "id": "c5d347c0",
   "metadata": {},
   "outputs": [
    {
     "name": "stdout",
     "output_type": "stream",
     "text": [
      "Starting year: 2017\n",
      "Index(['Date', 'Tm', 'Home_Away', 'Opp_x', 'R_x', 'RA_x', 'Inn', 'D/N',\n",
      "       'Attendance', 'cLI_x', 'Run Difference', 'Time Double', 'Year',\n",
      "       'cLI_y'],\n",
      "      dtype='object')\n",
      "                  Date   Tm Home_Away Opp_x  R_x  RA_x  Inn D/N  Attendance  \\\n",
      "0        Sunday, Apr 2  ARI      Home   SFG  6.0   5.0  9.0   D     49016.0   \n",
      "1       Tuesday, Apr 4  ARI      Home   SFG  4.0   8.0  9.0   N     19378.0   \n",
      "2     Wednesday, Apr 5  ARI      Home   SFG  8.0   6.0  9.0   N     14675.0   \n",
      "3      Thursday, Apr 6  ARI      Home   SFG  9.0   3.0  9.0   N     15308.0   \n",
      "4        Friday, Apr 7  ARI      Home   CLE  7.0   3.0  9.0   N     22443.0   \n",
      "...                ...  ...       ...   ...  ...   ...  ...  ..         ...   \n",
      "2425    Sunday, Sep 17  WSN      Home   LAD  7.0   1.0  9.0   N     29155.0   \n",
      "2426  Thursday, Sep 28  WSN      Home   PIT  5.0   4.0  9.0   N     26380.0   \n",
      "2427    Friday, Sep 29  WSN      Home   PIT  6.0   1.0  9.0   N     36339.0   \n",
      "2428  Saturday, Sep 30  WSN      Home   PIT  1.0   4.0  9.0   N     32240.0   \n",
      "2429     Sunday, Oct 1  WSN      Home   PIT  8.0  11.0  9.0   D     35652.0   \n",
      "\n",
      "     cLI_x  Run Difference  Time Double  Year cLI_y  \n",
      "0     1.06             1.0     3.383333  2017  1.06  \n",
      "1     1.12             4.0     3.433333  2017  1.01  \n",
      "2     1.03             2.0     3.250000  2017  1.05  \n",
      "3     1.10             6.0     3.000000  2017  1.05  \n",
      "4     1.00             4.0     3.316667  2017  1.02  \n",
      "...    ...             ...          ...   ...   ...  \n",
      "2425   .07             6.0     3.366667  2017   .02  \n",
      "2426   .02             1.0     3.383333  2017   .00  \n",
      "2427   .01             5.0     3.100000  2017   .00  \n",
      "2428   .00             3.0     2.933333  2017   .00  \n",
      "2429   .00             3.0     4.366667  2017   .00  \n",
      "\n",
      "[2430 rows x 14 columns]\n"
     ]
    }
   ],
   "source": [
    "\"\"\"#Written more parallel in next loop\n",
    "for year in year_list:\n",
    "    print(f'Starting year: {year}')\n",
    "    \n",
    "    series_list = Parallel(n_jobs = -1)(\n",
    "        delayed(get_szn_schedule)(year, team, \"Home\") for team in team_list)\n",
    "    \n",
    "    home_games = pd.concat(series_list, axis = 0)\n",
    "    \n",
    "    series_list = Parallel(n_jobs = -1)(\n",
    "        delayed(get_szn_schedule)(year, team, \"@\") for team in team_list)\n",
    "    \n",
    "    away_games = pd.concat(series_list, axis = 0)\\\n",
    "        .drop(['Home_Away', 'Run Difference', 'Time Double', 'Year', 'D/N', 'Inn', \n",
    "               'Tm', 'Attendance'], axis = 1)\n",
    "    \n",
    "    \n",
    "    temp = pd.merge(left = home_games, \n",
    "                    right = away_games, \n",
    "                    left_on = ['Date', 'Tm', 'R', 'RA'],\n",
    "                    right_on = ['Date', 'Opp', 'RA', 'R']\n",
    "        ).drop(['Opp_y', 'R_y', 'RA_y'], axis = 1)\n",
    "    print(temp.columns)\n",
    "    print(temp)\n",
    "    \n",
    "    break\n",
    "\"\"\""
   ]
  },
  {
   "cell_type": "code",
   "execution_count": 7,
   "id": "0a9a9689",
   "metadata": {},
   "outputs": [
    {
     "name": "stdout",
     "output_type": "stream",
     "text": [
      "Starting Home\n",
      "Starting away\n",
      "Starting Merge\n",
      "Index(['Date', 'Tm', 'Home_Away', 'Opp_x', 'R_x', 'RA_x', 'Inn', 'D/N',\n",
      "       'Attendance', 'cLI_x', 'Run Difference', 'Time Double', 'Year',\n",
      "       'cLI_y'],\n",
      "      dtype='object')\n",
      "                    Date   Tm Home_Away Opp_x  R_x  RA_x  Inn D/N  Attendance  \\\n",
      "0          Friday, Jun 9  ARI      Home   MIL  6.0   8.0  9.0   N     25009.0   \n",
      "1          Friday, Jun 9  ARI      Home   MIL  6.0   8.0  9.0   N     25009.0   \n",
      "2          Friday, Jun 9  ARI      Home   MIL  6.0   8.0  9.0   N     25009.0   \n",
      "3          Friday, Jun 9  ARI      Home   MIL  6.0   8.0  9.0   N     25009.0   \n",
      "4          Friday, Jun 9  ARI      Home   MIL  6.0   8.0  9.0   N     25009.0   \n",
      "...                  ...  ...       ...   ...  ...   ...  ...  ..         ...   \n",
      "10045  Wednesday, Sep 15  WSN      Home   MIA  6.0   8.0  9.0   D     16309.0   \n",
      "10046  Wednesday, Sep 15  WSN      Home   MIA  6.0   8.0  9.0   D     16309.0   \n",
      "10047  Wednesday, Sep 15  WSN      Home   MIA  6.0   8.0  9.0   D     16309.0   \n",
      "10048  Wednesday, Sep 15  WSN      Home   MIA  6.0   8.0  9.0   D     16309.0   \n",
      "10049  Wednesday, Sep 15  WSN      Home   MIA  6.0   8.0  9.0   D     16309.0   \n",
      "\n",
      "      cLI_x  Run Difference  Time Double  Year cLI_y  \n",
      "0      1.26             2.0     3.633333  2017  1.34  \n",
      "1      1.26             2.0     3.633333  2017  1.34  \n",
      "2      1.26             2.0     3.633333  2017  1.34  \n",
      "3      1.26             2.0     3.633333  2017  1.34  \n",
      "4      1.26             2.0     3.633333  2017  1.34  \n",
      "...     ...             ...          ...   ...   ...  \n",
      "10045   .00             2.0     3.883333  2021   .00  \n",
      "10046   .00             2.0     3.883333  2021   .00  \n",
      "10047   .00             2.0     3.883333  2021   .00  \n",
      "10048   .00             2.0     3.883333  2021   .00  \n",
      "10049   .00             2.0     3.883333  2021   .00  \n",
      "\n",
      "[10050 rows x 14 columns]\n"
     ]
    }
   ],
   "source": [
    "print(\"Starting Home\")\n",
    "series_list = Parallel(n_jobs = -1)(delayed(get_szn_schedule)(year, team, \"Home\") \n",
    "    for year, team in zip(year_list*30, team_list*5))\n",
    "home_games = pd.concat(series_list, axis = 0)\n",
    "\n",
    "print(\"Starting away\")\n",
    "series_list = Parallel(n_jobs = -1)(delayed(get_szn_schedule)(year, team, \"@\") \n",
    "    for year, team in zip((year_list*30), (team_list*5))) \n",
    "away_games = pd.concat(series_list, axis = 0)\\\n",
    "    .drop(['Home_Away', 'Run Difference', 'Time Double', 'Year', 'D/N', 'Inn', \n",
    "           'Tm', 'Attendance'], axis = 1)\n",
    "\n",
    "print(\"Starting Merge\")\n",
    "temp = pd.merge(left = home_games, \n",
    "                right = away_games, \n",
    "                left_on = ['Date', 'Tm', 'R', 'RA'],\n",
    "                right_on = ['Date', 'Opp', 'RA', 'R']\n",
    "    ).drop(['Opp_y', 'R_y', 'RA_y'], axis = 1)\n",
    "print(temp.columns)\n",
    "print(temp)"
   ]
  }
 ],
 "metadata": {
  "kernelspec": {
   "display_name": "Python 3 (ipykernel)",
   "language": "python",
   "name": "python3"
  },
  "language_info": {
   "codemirror_mode": {
    "name": "ipython",
    "version": 3
   },
   "file_extension": ".py",
   "mimetype": "text/x-python",
   "name": "python",
   "nbconvert_exporter": "python",
   "pygments_lexer": "ipython3",
   "version": "3.10.4"
  }
 },
 "nbformat": 4,
 "nbformat_minor": 5
}
