{
 "cells": [
  {
   "cell_type": "code",
   "execution_count": 78,
   "id": "aeff02af",
   "metadata": {},
   "outputs": [],
   "source": [
    "import pandas as pd\n",
    "import numpy as np\n",
    "from joblib import Parallel, delayed\n",
    "import pybaseball\n",
    "pd.options.mode.chained_assignment = None \n",
    "#https://stackoverflow.com/questions/20625582/how-to-deal-with-settingwithcopywarning-in-pandas"
   ]
  },
  {
   "cell_type": "markdown",
   "id": "2b261228",
   "metadata": {},
   "source": [
    "This block will download all of the raw data from 2017 through 2021\n",
    "\n",
    "\n",
    "Some thoughts:\n",
    "    I have two options:\n",
    "        1) Download the data and cut it down/clean it to what it I want,\n",
    "        2) Download the data, save that, then clean it and save that\n",
    "        \n",
    "        Option 1 is more memory efficient but option 1 is more time but \n",
    "        option 2 is more time efficient if/when I make mistakes\n",
    "        \n",
    "        So for now I'm going with option two and if that is super fast then I will\n",
    "        delete that result and combine them into one script. Okay here goes"
   ]
  },
  {
   "cell_type": "code",
   "execution_count": 11,
   "id": "63bace28",
   "metadata": {},
   "outputs": [],
   "source": [
    "def get_data_from_mlb(start_year, end_year = None):\n",
    "    \n",
    "    if end_year == None:\n",
    "        end_year = start_year + 1\n",
    "    \n",
    "    dfs = [] #https://github.com/jldbc/pybaseball/blob/master/EXAMPLES/imputed_derivation.ipynb\n",
    "    for year in range(start_year, end_year + 1):\n",
    "        print(f\"Starting year {year}\")\n",
    "        dfs.append(pybaseball.statcast(start_dt=f'{year}-03-21', end_dt=f'{year}-12-01',verbose=False))\n",
    "        #I'm overshooting the start and end here to make sure I don't miss anything\n",
    "        #The statcast function is written in parallel, so that helps speed up this process\n",
    "        \n",
    "    # https://pandas.pydata.org/pandas-docs/stable/user_guide/merging.html\n",
    "    print(\"Info succesfully downloaded from statcast\")\n",
    "    return pd.concat(dfs) \n",
    "    "
   ]
  },
  {
   "cell_type": "code",
   "execution_count": 13,
   "id": "481e7e78",
   "metadata": {},
   "outputs": [
    {
     "name": "stdout",
     "output_type": "stream",
     "text": [
      "Starting year 2017\n"
     ]
    },
    {
     "name": "stderr",
     "output_type": "stream",
     "text": [
      "100%|████████████████████████████████████████████████████████████████████████████████| 214/214 [00:33<00:00,  6.46it/s]\n"
     ]
    },
    {
     "name": "stdout",
     "output_type": "stream",
     "text": [
      "Starting year 2018\n"
     ]
    },
    {
     "name": "stderr",
     "output_type": "stream",
     "text": [
      "100%|████████████████████████████████████████████████████████████████████████████████| 214/214 [01:04<00:00,  3.32it/s]\n"
     ]
    },
    {
     "name": "stdout",
     "output_type": "stream",
     "text": [
      "Starting year 2019\n"
     ]
    },
    {
     "name": "stderr",
     "output_type": "stream",
     "text": [
      "100%|████████████████████████████████████████████████████████████████████████████████| 224/224 [01:02<00:00,  3.60it/s]\n"
     ]
    },
    {
     "name": "stdout",
     "output_type": "stream",
     "text": [
      "Starting year 2020\n"
     ]
    },
    {
     "name": "stderr",
     "output_type": "stream",
     "text": [
      "100%|██████████████████████████████████████████████████████████████████████████████████| 97/97 [00:27<00:00,  3.57it/s]\n"
     ]
    },
    {
     "name": "stdout",
     "output_type": "stream",
     "text": [
      "Starting year 2021\n"
     ]
    },
    {
     "name": "stderr",
     "output_type": "stream",
     "text": [
      "100%|████████████████████████████████████████████████████████████████████████████████| 240/240 [01:05<00:00,  3.64it/s]\n"
     ]
    },
    {
     "name": "stdout",
     "output_type": "stream",
     "text": [
      "Info succesfully downloaded from statcast\n",
      "Writing raw data to csv\n",
      "Writing key_points data to csv\n"
     ]
    }
   ],
   "source": [
    "if __name__ == '__main__':\n",
    "\n",
    "    result = get_data_from_mlb(2017, 2021)\n",
    "    \n",
    "    folder_name = \"data_files/\"\n",
    "    \n",
    "    print(\"Writing raw data to csv\")\n",
    "    result.to_csv(folder_name + \"raw_data_from_statcast.csv\", index = False)\n",
    "    \n",
    "    \n",
    "    \n",
    "    key_points = result[[ \n",
    "                            \"game_date\",\n",
    "                            \"description\",\n",
    "                            \"home_team\", #Team doesn't matter\n",
    "                            \"away_team\", #Remove if run again\n",
    "                            \"game_year\",\n",
    "                            \"plate_x\",\n",
    "                            \"plate_z\",\n",
    "                            \"sz_top\",\n",
    "                            \"sz_bot\",\n",
    "                            \"game_pk\"\n",
    "    ]]\n",
    "    \n",
    "    print(\"Writing key_points data to csv\")\n",
    "    key_points.to_csv(folder_name + \"key_points.csv\", index = False)\n",
    "    \n",
    "    "
   ]
  },
  {
   "cell_type": "markdown",
   "id": "d8830e84",
   "metadata": {},
   "source": [
    "key_points.csv has all of the pitch information I need to work with. \n",
    "\n",
    "Now I need to group them by game, and rate the ump's performance for that game"
   ]
  },
  {
   "cell_type": "code",
   "execution_count": 116,
   "id": "f072187e",
   "metadata": {},
   "outputs": [],
   "source": [
    "class Rate_Game:\n",
    "    \"\"\"\n",
    "    I verified that these methods work using game_pk:490098\n",
    "    I had it print the results here and then wrote it as a \n",
    "    CSV and compared in excel\n",
    "    \"\"\"\n",
    "    \n",
    "    \"\"\"\n",
    "    Inputs:\n",
    "        game_df: \n",
    "            pandas df of all of the pitches \n",
    "            In most cases this will be one game, but I guess I could use this to get overall averages too\n",
    "        game_pk:\n",
    "            ID of the game\n",
    "    Output:\n",
    "        A pandas series that will have the following information:\n",
    "        game_pk, game_date, ump accuracy, ump consistency\n",
    "    \"\"\"\n",
    "    def grade_game(game_df, game_pk):\n",
    "        \n",
    "        game_df = game_df[\n",
    "            np.where(  \n",
    "            (game_df['description'] == 'ball') | \\\n",
    "            (game_df['description'] == 'blocked_ball') |  \\\n",
    "            (game_df['description'] == 'called_strike'),\n",
    "             True, False   \n",
    "            )] \n",
    "        #Only looking at calls the umpire made\n",
    "        \n",
    "        \n",
    "        return pd.Series({\n",
    "            'game_pk' : game_pk,\n",
    "            'game_date' : game_df['game_date'].iloc[0], #Date pulled from first row\n",
    "            'game_year' : game_df['game_year'].iloc[0], #Date pulled from first row\n",
    "            'umpire_accuracy' : Rate_Game.grade_accuracy(game_df),\n",
    "            'umpire_consistency' : Rate_Game.grade_consistency(game_df),\n",
    "        })\n",
    "        \n",
    "   \n",
    "    \"\"\" #TODO\n",
    "    Inputs:\n",
    "        game_df: \n",
    "            pandas df of all of the pitches \n",
    "    Output:\n",
    "        Score of how consistent the ump was\n",
    "    \"\"\"   \n",
    "    def grade_consistency(game_df):\n",
    "        return None\n",
    "    \n",
    "        \n",
    "    \"\"\"\n",
    "    Inputs:\n",
    "        game_df: \n",
    "            pandas df of all of the pitches \n",
    "    Output:\n",
    "        How many pitches were called correctly in the zone divided by total number of called pitches\n",
    "    \"\"\"   \n",
    "    def grade_accuracy(game_df):\n",
    "        half_width_ball = 2.9/12\n",
    "        sz_L = (-8.5/12) - half_width_ball\n",
    "        sz_R = (8.5/12) + half_width_ball\n",
    "        \n",
    "        #https://stackoverflow.com/questions/30631841/pandas-how-do-i-assign-values-based-on-multiple-conditions-for-existing-columns\n",
    "        game_df[\"in_zone\"] = np.where(\n",
    "            (game_df[\"plate_x\"] > sz_L) & \\\n",
    "            (game_df[\"plate_x\"] < sz_R) & \\\n",
    "            (game_df[\"plate_z\"] > (game_df[\"sz_bot\"] - half_width_ball)) & \\\n",
    "            (game_df[\"plate_z\"] < (game_df[\"sz_top\"] + half_width_ball)),\n",
    "            True, False\n",
    "        )\n",
    "        \n",
    "        game_df[\"correct_call\"] = \\\n",
    "            ((game_df[\"in_zone\"] == True) & (game_df['description'] == 'called_strike')) |\\\n",
    "              ((game_df[\"in_zone\"] == False) & (game_df['description'] == 'blocked_ball')) |\\\n",
    "              ((game_df[\"in_zone\"] == False) & (game_df['description'] == 'ball'))\n",
    "\n",
    "        return game_df[game_df[\"correct_call\"] == True].shape[0] /game_df.shape[0]\n",
    "    \n",
    "    \n"
   ]
  },
  {
   "cell_type": "code",
   "execution_count": 10,
   "id": "88651ef9",
   "metadata": {},
   "outputs": [],
   "source": [
    "key_points = pd.read_csv(\"data_files/key_points.csv\")\n",
    "game_groups = key_points.groupby(['game_pk'])"
   ]
  },
  {
   "cell_type": "code",
   "execution_count": 115,
   "id": "df1ae15b",
   "metadata": {
    "scrolled": false
   },
   "outputs": [
    {
     "data": {
      "text/plain": [
       "' #Parallelized in next block\\ngame_groups = key_points.groupby([\\'game_pk\\'])\\nfor game_pk, game_df in game_groups.__iter__(): #iters through every game\\n    print(Rate_Game.grade_game(game_df, game_pk), \"\\n\")\\n    #break\\n'"
      ]
     },
     "execution_count": 115,
     "metadata": {},
     "output_type": "execute_result"
    }
   ],
   "source": [
    "\"\"\" #Parallelized in next block\n",
    "game_groups = key_points.groupby(['game_pk'])\n",
    "for game_pk, game_df in game_groups.__iter__(): #iters through every game\n",
    "    print(Rate_Game.grade_game(game_df, game_pk), \"\\n\")\n",
    "    #break\n",
    "\"\"\""
   ]
  },
  {
   "cell_type": "code",
   "execution_count": 127,
   "id": "28f180f2",
   "metadata": {},
   "outputs": [],
   "source": [
    "series_list = Parallel(n_jobs = -1, batch_size = 5)(\n",
    "    delayed(Rate_Game.grade_game)(game_df, game_pk) for game_pk, game_df in game_groups.__iter__())\n",
    "game_summary = pd.concat(series_list, axis = 1).T\n"
   ]
  },
  {
   "cell_type": "markdown",
   "id": "99a00ed0",
   "metadata": {},
   "source": [
    "To this point, we have pandas df that gives us a list of every game. Info included in this file is game_pk, game_year, game_date, umpire accuracy and umpire consistency. \n",
    "\n",
    "Now we need to match the games with the umpire. Umpire excel sheet was found [here](https://billpetti.github.io/baseball_tools/) after some Googling. I've tried to figure out how the Umpire Scorecards guy automates that but I've been unsuccesful, and this does the job. "
   ]
  },
  {
   "cell_type": "code",
   "execution_count": 158,
   "id": "aac2844a",
   "metadata": {},
   "outputs": [
    {
     "name": "stdout",
     "output_type": "stream",
     "text": [
      "<class 'pandas.core.frame.DataFrame'>\n",
      "RangeIndex: 11032 entries, 0 to 11031\n",
      "Data columns (total 5 columns):\n",
      " #   Column              Non-Null Count  Dtype \n",
      "---  ------              --------------  ----- \n",
      " 0   game_pk             11032 non-null  object\n",
      " 1   game_date           11032 non-null  object\n",
      " 2   game_year           11032 non-null  object\n",
      " 3   umpire_accuracy     11032 non-null  object\n",
      " 4   umpire_consistency  0 non-null      object\n",
      "dtypes: object(5)\n",
      "memory usage: 2.1 MB\n",
      "\n",
      "\n",
      "<class 'pandas.core.frame.DataFrame'>\n",
      "Int64Index: 10984 entries, 3 to 44070\n",
      "Data columns (total 5 columns):\n",
      " #   Column     Non-Null Count  Dtype \n",
      "---  ------     --------------  ----- \n",
      " 0   id         10984 non-null  int64 \n",
      " 1   position   10984 non-null  object\n",
      " 2   name       10984 non-null  object\n",
      " 3   game_pk    10984 non-null  int64 \n",
      " 4   game_date  10984 non-null  object\n",
      "dtypes: int64(2), object(3)\n",
      "memory usage: 2.3 MB\n"
     ]
    }
   ],
   "source": [
    "umpires = pd.read_csv(\"data_files/umpires_ids_game_pk.csv\")\n",
    "umpires = umpires[umpires['position'] == \"HP\"]\n",
    "umpires = umpires[\n",
    "    ((umpires['game_date'].str.contains('2021')) | \\\n",
    "    (umpires['game_date'].str.contains('2020')) | \\\n",
    "    (umpires['game_date'].str.contains('2019')) | \\\n",
    "    (umpires['game_date'].str.contains('2018')) | \\\n",
    "    (umpires['game_date'].str.contains('2017')))]\n",
    "#umpires['game_year'] = umpires['game_date'].str[-4:]\n",
    "\n",
    "game_summary.info(memory_usage = \"deep\")\n",
    "print(\"\\n\")\n",
    "umpires.info(memory_usage = \"deep\")\n",
    "#interesting function that tells us the memory of the df"
   ]
  },
  {
   "cell_type": "code",
   "execution_count": null,
   "id": "90315cff",
   "metadata": {},
   "outputs": [],
   "source": [
    "def match_umpires(game_series, umpire_df):\n",
    "    "
   ]
  },
  {
   "cell_type": "code",
   "execution_count": 168,
   "id": "41222498",
   "metadata": {},
   "outputs": [
    {
     "data": {
      "text/html": [
       "<div>\n",
       "<style scoped>\n",
       "    .dataframe tbody tr th:only-of-type {\n",
       "        vertical-align: middle;\n",
       "    }\n",
       "\n",
       "    .dataframe tbody tr th {\n",
       "        vertical-align: top;\n",
       "    }\n",
       "\n",
       "    .dataframe thead th {\n",
       "        text-align: right;\n",
       "    }\n",
       "</style>\n",
       "<table border=\"1\" class=\"dataframe\">\n",
       "  <thead>\n",
       "    <tr style=\"text-align: right;\">\n",
       "      <th></th>\n",
       "      <th>game_pk</th>\n",
       "      <th>game_date_x</th>\n",
       "      <th>game_year</th>\n",
       "      <th>umpire_accuracy</th>\n",
       "      <th>umpire_consistency</th>\n",
       "      <th>id</th>\n",
       "      <th>name</th>\n",
       "    </tr>\n",
       "  </thead>\n",
       "  <tbody>\n",
       "    <tr>\n",
       "      <th>0</th>\n",
       "      <td>490098</td>\n",
       "      <td>2017-04-03</td>\n",
       "      <td>2017</td>\n",
       "      <td>0.847134</td>\n",
       "      <td>None</td>\n",
       "      <td>427269</td>\n",
       "      <td>Jeff Kellogg</td>\n",
       "    </tr>\n",
       "    <tr>\n",
       "      <th>1</th>\n",
       "      <td>490099</td>\n",
       "      <td>2017-04-02</td>\n",
       "      <td>2017</td>\n",
       "      <td>0.865922</td>\n",
       "      <td>None</td>\n",
       "      <td>427144</td>\n",
       "      <td>Paul Emmel</td>\n",
       "    </tr>\n",
       "    <tr>\n",
       "      <th>2</th>\n",
       "      <td>490100</td>\n",
       "      <td>2017-04-03</td>\n",
       "      <td>2017</td>\n",
       "      <td>0.853933</td>\n",
       "      <td>None</td>\n",
       "      <td>427552</td>\n",
       "      <td>Mike Winters</td>\n",
       "    </tr>\n",
       "    <tr>\n",
       "      <th>3</th>\n",
       "      <td>490101</td>\n",
       "      <td>2017-04-03</td>\n",
       "      <td>2017</td>\n",
       "      <td>0.865385</td>\n",
       "      <td>None</td>\n",
       "      <td>427538</td>\n",
       "      <td>Joe West</td>\n",
       "    </tr>\n",
       "    <tr>\n",
       "      <th>4</th>\n",
       "      <td>490102</td>\n",
       "      <td>2017-04-04</td>\n",
       "      <td>2017</td>\n",
       "      <td>0.909639</td>\n",
       "      <td>None</td>\n",
       "      <td>427192</td>\n",
       "      <td>Brian Gorman</td>\n",
       "    </tr>\n",
       "    <tr>\n",
       "      <th>...</th>\n",
       "      <td>...</td>\n",
       "      <td>...</td>\n",
       "      <td>...</td>\n",
       "      <td>...</td>\n",
       "      <td>...</td>\n",
       "      <td>...</td>\n",
       "      <td>...</td>\n",
       "    </tr>\n",
       "    <tr>\n",
       "      <th>10402</th>\n",
       "      <td>642209</td>\n",
       "      <td>2021-03-21</td>\n",
       "      <td>2021</td>\n",
       "      <td>0.671642</td>\n",
       "      <td>None</td>\n",
       "      <td>608093</td>\n",
       "      <td>Junior Valentine</td>\n",
       "    </tr>\n",
       "    <tr>\n",
       "      <th>10403</th>\n",
       "      <td>642216</td>\n",
       "      <td>2021-03-22</td>\n",
       "      <td>2021</td>\n",
       "      <td>0.885246</td>\n",
       "      <td>None</td>\n",
       "      <td>427554</td>\n",
       "      <td>Jim Wolf</td>\n",
       "    </tr>\n",
       "    <tr>\n",
       "      <th>10404</th>\n",
       "      <td>642217</td>\n",
       "      <td>2021-03-28</td>\n",
       "      <td>2021</td>\n",
       "      <td>0.831461</td>\n",
       "      <td>None</td>\n",
       "      <td>427315</td>\n",
       "      <td>Alfonso Marquez</td>\n",
       "    </tr>\n",
       "    <tr>\n",
       "      <th>10405</th>\n",
       "      <td>642219</td>\n",
       "      <td>2021-03-27</td>\n",
       "      <td>2021</td>\n",
       "      <td>0.77551</td>\n",
       "      <td>None</td>\n",
       "      <td>607884</td>\n",
       "      <td>Paul Clemons</td>\n",
       "    </tr>\n",
       "    <tr>\n",
       "      <th>10406</th>\n",
       "      <td>644215</td>\n",
       "      <td>2021-03-30</td>\n",
       "      <td>2021</td>\n",
       "      <td>0.942857</td>\n",
       "      <td>None</td>\n",
       "      <td>644661</td>\n",
       "      <td>Kyle McCrady</td>\n",
       "    </tr>\n",
       "  </tbody>\n",
       "</table>\n",
       "<p>10407 rows × 7 columns</p>\n",
       "</div>"
      ],
      "text/plain": [
       "      game_pk game_date_x game_year umpire_accuracy umpire_consistency  \\\n",
       "0      490098  2017-04-03      2017        0.847134               None   \n",
       "1      490099  2017-04-02      2017        0.865922               None   \n",
       "2      490100  2017-04-03      2017        0.853933               None   \n",
       "3      490101  2017-04-03      2017        0.865385               None   \n",
       "4      490102  2017-04-04      2017        0.909639               None   \n",
       "...       ...         ...       ...             ...                ...   \n",
       "10402  642209  2021-03-21      2021        0.671642               None   \n",
       "10403  642216  2021-03-22      2021        0.885246               None   \n",
       "10404  642217  2021-03-28      2021        0.831461               None   \n",
       "10405  642219  2021-03-27      2021         0.77551               None   \n",
       "10406  644215  2021-03-30      2021        0.942857               None   \n",
       "\n",
       "           id              name  \n",
       "0      427269      Jeff Kellogg  \n",
       "1      427144        Paul Emmel  \n",
       "2      427552      Mike Winters  \n",
       "3      427538          Joe West  \n",
       "4      427192      Brian Gorman  \n",
       "...       ...               ...  \n",
       "10402  608093  Junior Valentine  \n",
       "10403  427554          Jim Wolf  \n",
       "10404  427315   Alfonso Marquez  \n",
       "10405  607884      Paul Clemons  \n",
       "10406  644661      Kyle McCrady  \n",
       "\n",
       "[10407 rows x 7 columns]"
      ]
     },
     "execution_count": 168,
     "metadata": {},
     "output_type": "execute_result"
    }
   ],
   "source": [
    "pd.merge(game_summary, umpires, on = \"game_pk\").drop(['game_date_y', 'position'], axis=1)"
   ]
  }
 ],
 "metadata": {
  "kernelspec": {
   "display_name": "Python 3 (ipykernel)",
   "language": "python",
   "name": "python3"
  },
  "language_info": {
   "codemirror_mode": {
    "name": "ipython",
    "version": 3
   },
   "file_extension": ".py",
   "mimetype": "text/x-python",
   "name": "python",
   "nbconvert_exporter": "python",
   "pygments_lexer": "ipython3",
   "version": "3.10.4"
  }
 },
 "nbformat": 4,
 "nbformat_minor": 5
}
