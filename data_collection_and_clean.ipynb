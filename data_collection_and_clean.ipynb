{
 "cells": [
  {
   "cell_type": "code",
   "execution_count": 4,
   "id": "aeff02af",
   "metadata": {},
   "outputs": [],
   "source": [
    "import pandas as pd\n",
    "import numpy as np\n",
    "import pybaseball\n"
   ]
  },
  {
   "cell_type": "markdown",
   "id": "2b261228",
   "metadata": {},
   "source": [
    "This block will download all of the raw data from 2017 through 2021\n",
    "\n",
    "\n",
    "Some thoughts:\n",
    "    I have two options:\n",
    "        1) Download the data and cut it down/clean it to what it I want,\n",
    "        2) Download the data, save that, then clean it and save that\n",
    "        \n",
    "        Option 1 is more memory efficient but option 1 is more time but \n",
    "        option 2 is more time efficient if/when I make mistakes\n",
    "        \n",
    "        So for now I'm going with option two and if that is super fast then I will\n",
    "        delete that result and combine them into one script. Okay here goes"
   ]
  },
  {
   "cell_type": "code",
   "execution_count": 6,
   "id": "63bace28",
   "metadata": {},
   "outputs": [],
   "source": [
    "def get_data_from_mlb(start_year, end_year = None):\n",
    "    \n",
    "    if end_year == None:\n",
    "        end_year = start_year + 1\n",
    "    \n",
    "    dfs = [] #https://github.com/jldbc/pybaseball/blob/master/EXAMPLES/imputed_derivation.ipynb\n",
    "    for year in range(start_year, end_year + 1):\n",
    "        print(f\"Starting year {year}\")\n",
    "        dfs.append(pybaseball.statcast(start_dt=f'{year}-03-21', end_dt=f'{year}-12-01',verbose=False))\n",
    "        #I'm overshooting the start and end here to make sure I don't miss anything\n",
    "        \n",
    "    # https://pandas.pydata.org/pandas-docs/stable/user_guide/merging.html\n",
    "    print(\"Info succesfully downloaded from statcast\")\n",
    "    return pd.concat(dfs) \n",
    "    "
   ]
  },
  {
   "cell_type": "code",
   "execution_count": null,
   "id": "481e7e78",
   "metadata": {},
   "outputs": [],
   "source": [
    "if __name__ == '__main__':\n",
    "\n",
    "    result = get_data_from_mlb(2017, 2021)\n",
    "    \n",
    "    print(\"Writing raw data to csv\")\n",
    "    result.to_csv(\"raw_data_from_statcast.csv\", index = False)\n",
    "    \n",
    "    \n",
    "    \n",
    "    key_points = result[[ \n",
    "                            \"game_date\",\n",
    "                            \"description\",\n",
    "                            \"home_team\",\n",
    "                            \"away_team\",\n",
    "                            \"game_year\",\n",
    "                            \"plate_x\",\n",
    "                            \"plate_z\",\n",
    "                            \"sz_top\",\n",
    "                            \"sz_bot\",\n",
    "                            \"game_pk\"\n",
    "    ]]\n",
    "    \n",
    "    print(\"Writing key_points data to csv\")\n",
    "    key_points.to_csv(\"key_points.csv\", index = False)\n",
    "    \n",
    "    "
   ]
  },
  {
   "cell_type": "markdown",
   "id": "d8830e84",
   "metadata": {},
   "source": [
    "key_points.csv has all of the pitch information I need to work with. \n",
    "\n",
    "Now I need to group them by game, and rate the ump's performance for that game"
   ]
  },
  {
   "cell_type": "code",
   "execution_count": null,
   "id": "f072187e",
   "metadata": {},
   "outputs": [],
   "source": [
    "class Rate_Game:\n",
    "    \"\"\"\n",
    "    Inputs:\n",
    "        game_df: \n",
    "            pandas df of all of the pitches \n",
    "            In most cases this will be one game, but I guess I could use this to get overall averages too\n",
    "        game_pk:\n",
    "            ID of the game\n",
    "    Output:\n",
    "        A pandas series that will have the following information:\n",
    "        game_pk, game_date, ump accuracy, ump consistency\n",
    "    \"\"\"\n",
    "    \n",
    "    def grade_game(game_df, game_pk):\n",
    "    sz_L = -.8308\n",
    "    sz_R = .8308\n",
    "    \n",
    "    #https://stackoverflow.com/questions/30631841/pandas-how-do-i-assign-values-based-on-multiple-conditions-for-existing-columns\n",
    "    game_df[\"accurate\"] = np.where(\n",
    "        (game_df[\"plate_x\"] > sz_L) & \\\n",
    "        (game_df[\"plate_x\"] < sz_R) & \\\n",
    "        (game_df[\"plate_z\"] > game_df[\"sz_bot\"]) & \\\n",
    "        (game_df[\"plate_z\"] < game_df[\"sz_top\"]),\n",
    "        True, False\n",
    "    ) \n",
    "    \n",
    "    #Now we need to figure out consistency\n",
    "    #Then build & return the series\n",
    "    \n",
    "    print(game_df)\n",
    "    exit()\n"
   ]
  },
  {
   "cell_type": "code",
   "execution_count": null,
   "id": "88651ef9",
   "metadata": {},
   "outputs": [],
   "source": [
    "key_points = pd.read_csv(\"key_points.csv\")\n",
    "game_groups = key_points.groupby(['game_pk'])"
   ]
  }
 ],
 "metadata": {
  "kernelspec": {
   "display_name": "Python 3 (ipykernel)",
   "language": "python",
   "name": "python3"
  },
  "language_info": {
   "codemirror_mode": {
    "name": "ipython",
    "version": 3
   },
   "file_extension": ".py",
   "mimetype": "text/x-python",
   "name": "python",
   "nbconvert_exporter": "python",
   "pygments_lexer": "ipython3",
   "version": "3.10.4"
  }
 },
 "nbformat": 4,
 "nbformat_minor": 5
}
