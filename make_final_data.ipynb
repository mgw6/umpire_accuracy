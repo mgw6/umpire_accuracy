{
 "cells": [
  {
   "cell_type": "code",
   "execution_count": 1,
   "id": "7d5e0012",
   "metadata": {},
   "outputs": [],
   "source": [
    "import pandas as pd\n",
    "import numpy as np\n",
    "import time\n",
    "from joblib import Parallel, delayed"
   ]
  },
  {
   "cell_type": "code",
   "execution_count": 2,
   "id": "dd2f8aeb",
   "metadata": {},
   "outputs": [],
   "source": [
    "ump_performance = pd.read_csv(\"data_files/umpire_performance.csv\")\n",
    "other_factors = pd.read_csv(\"data_files/other_factors.csv\")"
   ]
  },
  {
   "cell_type": "code",
   "execution_count": 6,
   "id": "65d9304a",
   "metadata": {},
   "outputs": [
    {
     "name": "stdout",
     "output_type": "stream",
     "text": [
      "Ump_performance columns:  Index(['game_pk', 'game_date_x', 'game_year', 'umpire_accuracy',\n",
      "       'umpire_consistency', 'home_team', 'post_home_score', 'post_away_score',\n",
      "       'id', 'name'],\n",
      "      dtype='object')\n",
      "ump_performance rows:  10216\n",
      "\n",
      "\n",
      "other_factors columns: Index(['Date', 'Home Team', 'Away Team', 'Home Score', 'Away Score', 'Inn',\n",
      "       'Day', 'Attendance', 'Home cLI', 'Run Difference', 'Time Double',\n",
      "       'Year', 'Away cLI', 'Total cLI', 'tavg', 'prcp', 'snow', 'wspd',\n",
      "       'day_num_of_year'],\n",
      "      dtype='object')\n",
      "other_factors rows:  10617\n"
     ]
    }
   ],
   "source": [
    "print(\"Ump_performance columns: \", ump_performance.columns)\n",
    "print(\"ump_performance rows: \", len(ump_performance))\n",
    "print(\"\\n\\nother_factors columns:\", other_factors.columns)\n",
    "print(\"other_factors rows: \", len(other_factors))"
   ]
  },
  {
   "cell_type": "code",
   "execution_count": 13,
   "id": "0de4a939",
   "metadata": {},
   "outputs": [
    {
     "data": {
      "text/plain": [
       "Index(['game_pk', 'game_date_x', 'game_year', 'umpire_accuracy',\n",
       "       'umpire_consistency', 'home_team', 'post_home_score', 'post_away_score',\n",
       "       'id', 'name', 'Date', 'Home Team', 'Away Team', 'Home Score',\n",
       "       'Away Score', 'Inn', 'Day', 'Attendance', 'Home cLI', 'Run Difference',\n",
       "       'Time Double', 'Year', 'Away cLI', 'Total cLI', 'tavg', 'prcp', 'snow',\n",
       "       'wspd', 'day_num_of_year'],\n",
       "      dtype='object')"
      ]
     },
     "execution_count": 13,
     "metadata": {},
     "output_type": "execute_result"
    }
   ],
   "source": [
    "df = pd.merge(\n",
    "    left = ump_performance,\n",
    "    right = other_factors, \n",
    "    left_on = ['game_date_x', 'home_team', 'post_home_score', 'post_away_score'],\n",
    "    right_on = ['Date', 'Home Team', 'Home Score', 'Away Score']\n",
    ")\n",
    "df.columns"
   ]
  },
  {
   "cell_type": "code",
   "execution_count": 93,
   "id": "fc052f29",
   "metadata": {},
   "outputs": [],
   "source": [
    "def build_data(year_id, ump_df):\n",
    "    ump_df = ump_df.reset_index()\n",
    "    \n",
    "    #print(year_id)\n",
    "    ump_df['year'] = year_id[0]\n",
    "    ump_df['id'] = year_id[1]\n",
    "    \n",
    "    ump_df['last_accuracy'] = pd.NA\n",
    "    ump_df['last_consistency'] = pd.NA\n",
    "    ump_df['days_between'] = pd.NA\n",
    "    for index in range(1, len(ump_df)):\n",
    "        ump_df.at[index, 'last_accuracy'] = ump_df.iloc[index-1]['umpire_accuracy']\n",
    "        ump_df.at[index, 'last_consistency'] = ump_df.iloc[index-1]['umpire_consistency']\n",
    "        ump_df.at[index, 'days_between'] = \\\n",
    "            ump_df.iloc[index]['day_num_of_year'] - ump_df.iloc[index-1]['day_num_of_year']\n",
    "        \n",
    "    return ump_df[1:]"
   ]
  },
  {
   "cell_type": "code",
   "execution_count": 94,
   "id": "08445689",
   "metadata": {},
   "outputs": [
    {
     "name": "stdout",
     "output_type": "stream",
     "text": [
      "    index  game_pk game_date_x  game_year  umpire_accuracy  \\\n",
      "1      68   490182  2017-04-09       2017         0.830986   \n",
      "2     123   490253  2017-04-14       2017         0.896341   \n",
      "3     214   490363  2017-04-22       2017         0.895425   \n",
      "4     401   490591  2017-05-09       2017         0.854651   \n",
      "5     457   490667  2017-05-14       2017         0.883871   \n",
      "6     591   490826  2017-05-26       2017         0.864000   \n",
      "7     696   490955  2017-06-04       2017         0.859375   \n",
      "8     832   491123  2017-06-17       2017         0.910828   \n",
      "9     882   491179  2017-06-21       2017         0.926966   \n",
      "10    921   491233  2017-06-25       2017         0.879518   \n",
      "11   1088   491440  2017-07-14       2017         0.926702   \n",
      "12   1208   491592  2017-07-25       2017         0.870270   \n",
      "13   1267   491671  2017-07-30       2017         0.888325   \n",
      "14   1320   491733  2017-08-04       2017         0.898810   \n",
      "15   1357   491784  2017-08-08       2017         0.886076   \n",
      "16   1401   491840  2017-08-12       2017         0.841772   \n",
      "17   1454   491902  2017-08-16       2017         0.937888   \n",
      "18   1492   491951  2017-08-20       2017         0.890110   \n",
      "19   1545   492022  2017-08-25       2017         0.834483   \n",
      "20   1601   492090  2017-08-30       2017         0.867133   \n",
      "21   1645   492143  2017-09-03       2017         0.935294   \n",
      "22   1765   492300  2017-09-15       2017         0.886228   \n",
      "23   1881   492441  2017-09-25       2017         0.938462   \n",
      "24   1922   492491  2017-09-29       2017         0.851429   \n",
      "\n",
      "    umpire_consistency home_team  post_home_score  post_away_score      id  \\\n",
      "1             0.960000       ARI                3                2  427013   \n",
      "2             0.954545       BOS                5               10  427013   \n",
      "3             0.953488       MIL                1                4  427013   \n",
      "4             0.916667       CIN                5                3  427013   \n",
      "5             0.933333       TOR                3                2  427013   \n",
      "6             1.000000       COL               10                0  427013   \n",
      "7             0.958333       SEA                7                1  427013   \n",
      "8             0.976190       OAK                5                2  427013   \n",
      "9             0.946429       LAD                8                2  427013   \n",
      "10            1.000000       SEA                2                8  427013   \n",
      "11            1.000000       HOU               10                5  427013   \n",
      "12            0.957447       CHC                7                2  427013   \n",
      "13            0.943396       NYY                3                5  427013   \n",
      "14            0.981132       PIT               10                6  427013   \n",
      "15            0.945455       MIN               11                4  427013   \n",
      "16            1.000000       TEX                8                3  427013   \n",
      "17            0.964912       TOR                3                2  427013   \n",
      "18            0.982456       BOS                5                1  427013   \n",
      "19            0.941176       OAK                3                1  427013   \n",
      "20            0.978723       MIL                6                5  427013   \n",
      "21            0.980769       MIA                1                3  427013   \n",
      "22            0.963636       CLE                3                4  427013   \n",
      "23            1.000000       OAK                1                7  427013   \n",
      "24            0.944444       COL                9                1  427013   \n",
      "\n",
      "    ... Total cLI  tavg  prcp snow  wspd  day_num_of_year  year  \\\n",
      "1   ...      2.02  22.6   0.0  0.0  13.0               99  2017   \n",
      "2   ...      2.20  10.7   0.0  0.0  15.1              104  2017   \n",
      "3   ...      2.10   9.1   0.0  0.0  10.1              112  2017   \n",
      "4   ...      2.28  11.9  25.4  0.0   5.7              129  2017   \n",
      "5   ...      1.34  12.2   0.8  0.0  17.2              134  2017   \n",
      "6   ...      2.49  14.3   8.4  0.0  16.6              146  2017   \n",
      "7   ...      1.59  14.9   0.0  0.0   5.0              155  2017   \n",
      "8   ...      1.69  21.4   0.0  0.0  10.4              168  2017   \n",
      "9   ...      1.35  19.7   0.0  0.0  10.1              172  2017   \n",
      "10  ...      1.41  25.7   0.0  0.0   6.4              176  2017   \n",
      "11  ...      1.48  29.3   0.0  0.0   6.8              195  2017   \n",
      "12  ...      1.59  23.4   0.0  0.0  13.3              206  2017   \n",
      "13  ...      3.26  23.8   0.0  0.0   7.5              211  2017   \n",
      "14  ...      0.67  24.5  10.4  0.0  15.1              216  2017   \n",
      "15  ...      2.54  21.4   0.0  0.0   7.2              220  2017   \n",
      "16  ...      0.62  28.4  45.2  0.0   7.9              224  2017   \n",
      "17  ...      1.18  20.1   0.0  0.0  12.0              228  2017   \n",
      "18  ...      3.92  24.1   0.0  0.0  17.3              232  2017   \n",
      "19  ...      0.79  16.1   0.0  0.0  12.6              237  2017   \n",
      "20  ...      2.96  21.1   1.0  0.0  12.2              242  2017   \n",
      "21  ...      0.24  29.4   0.0  0.0   7.2              246  2017   \n",
      "22  ...      0.25  19.8   0.0  0.0  10.0              258  2017   \n",
      "23  ...      0.00  17.8   0.0  0.0   7.9              268  2017   \n",
      "24  ...      0.70  11.1   0.3  0.0   4.1              272  2017   \n",
      "\n",
      "    last_accuracy  last_consistency days_between  \n",
      "1        0.890323          0.915254            4  \n",
      "2        0.830986              0.96            5  \n",
      "3        0.896341          0.954545            8  \n",
      "4        0.895425          0.953488           17  \n",
      "5        0.854651          0.916667            5  \n",
      "6        0.883871          0.933333           12  \n",
      "7           0.864               1.0            9  \n",
      "8        0.859375          0.958333           13  \n",
      "9        0.910828           0.97619            4  \n",
      "10       0.926966          0.946429            4  \n",
      "11       0.879518               1.0           19  \n",
      "12       0.926702               1.0           11  \n",
      "13        0.87027          0.957447            5  \n",
      "14       0.888325          0.943396            5  \n",
      "15        0.89881          0.981132            4  \n",
      "16       0.886076          0.945455            4  \n",
      "17       0.841772               1.0            4  \n",
      "18       0.937888          0.964912            4  \n",
      "19        0.89011          0.982456            5  \n",
      "20       0.834483          0.941176            5  \n",
      "21       0.867133          0.978723            4  \n",
      "22       0.935294          0.980769           12  \n",
      "23       0.886228          0.963636           10  \n",
      "24       0.938462               1.0            4  \n",
      "\n",
      "[24 rows x 34 columns]\n"
     ]
    }
   ],
   "source": [
    "year_groups = df.groupby(by = ['game_year', 'id'])\n",
    "for year, year_df in year_groups.__iter__():\n",
    "    temp = build_data(year, year_df) \n",
    "    print(temp)\n",
    "    break\n",
    "    "
   ]
  },
  {
   "cell_type": "code",
   "execution_count": 101,
   "id": "39fb095b",
   "metadata": {},
   "outputs": [
    {
     "name": "stderr",
     "output_type": "stream",
     "text": [
      "[Parallel(n_jobs=-1)]: Using backend LokyBackend with 8 concurrent workers.\n",
      "[Parallel(n_jobs=-1)]: Done   9 tasks      | elapsed:    0.0s\n",
      "[Parallel(n_jobs=-1)]: Done 377 tasks      | elapsed:    1.1s\n",
      "[Parallel(n_jobs=-1)]: Done 445 out of 460 | elapsed:    1.2s remaining:    0.0s\n",
      "[Parallel(n_jobs=-1)]: Done 460 out of 460 | elapsed:    1.2s finished\n"
     ]
    }
   ],
   "source": [
    "year_groups = df.groupby(by = ['game_year', 'id'])\n",
    "umpire_list = Parallel(n_jobs = -1, verbose = 4)(\n",
    "    delayed(build_data)(year, year_df) for year, year_df in year_groups.__iter__())\n"
   ]
  },
  {
   "cell_type": "code",
   "execution_count": 106,
   "id": "618569ce",
   "metadata": {},
   "outputs": [
    {
     "data": {
      "text/plain": [
       "Index(['index', 'game_pk', 'game_date_x', 'game_year', 'umpire_accuracy',\n",
       "       'umpire_consistency', 'home_team', 'post_home_score', 'post_away_score',\n",
       "       'id', 'name', 'Date', 'Home Team', 'Away Team', 'Home Score',\n",
       "       'Away Score', 'Inn', 'Day', 'Attendance', 'Home cLI', 'Run Difference',\n",
       "       'Time Double', 'Year', 'Away cLI', 'Total cLI', 'tavg', 'prcp', 'snow',\n",
       "       'wspd', 'day_num_of_year', 'year', 'last_accuracy', 'last_consistency',\n",
       "       'days_between'],\n",
       "      dtype='object')"
      ]
     },
     "execution_count": 106,
     "metadata": {},
     "output_type": "execute_result"
    }
   ],
   "source": [
    "game_summary = pd.concat(umpire_list, axis = 0, ignore_index = True)\n",
    "game_summary.columns"
   ]
  }
 ],
 "metadata": {
  "kernelspec": {
   "display_name": "Python 3 (ipykernel)",
   "language": "python",
   "name": "python3"
  },
  "language_info": {
   "codemirror_mode": {
    "name": "ipython",
    "version": 3
   },
   "file_extension": ".py",
   "mimetype": "text/x-python",
   "name": "python",
   "nbconvert_exporter": "python",
   "pygments_lexer": "ipython3",
   "version": "3.10.4"
  }
 },
 "nbformat": 4,
 "nbformat_minor": 5
}
