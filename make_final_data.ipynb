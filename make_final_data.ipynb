{
 "cells": [
  {
   "cell_type": "code",
   "execution_count": 1,
   "id": "7d5e0012",
   "metadata": {},
   "outputs": [],
   "source": [
    "import pandas as pd\n",
    "import numpy as np\n",
    "import time\n",
    "from joblib import Parallel, delayed"
   ]
  },
  {
   "cell_type": "code",
   "execution_count": 2,
   "id": "dd2f8aeb",
   "metadata": {},
   "outputs": [],
   "source": [
    "ump_performance = pd.read_csv(\"data_files/umpire_performance.csv\")\n",
    "other_factors = pd.read_csv(\"data_files/other_factors.csv\")"
   ]
  },
  {
   "cell_type": "code",
   "execution_count": 6,
   "id": "65d9304a",
   "metadata": {},
   "outputs": [
    {
     "name": "stdout",
     "output_type": "stream",
     "text": [
      "Ump_performance columns:  Index(['game_pk', 'game_date_x', 'game_year', 'umpire_accuracy',\n",
      "       'umpire_consistency', 'home_team', 'post_home_score', 'post_away_score',\n",
      "       'id', 'name'],\n",
      "      dtype='object')\n",
      "ump_performance rows:  10216\n",
      "\n",
      "\n",
      "other_factors columns: Index(['Date', 'Home Team', 'Away Team', 'Home Score', 'Away Score', 'Inn',\n",
      "       'Day', 'Attendance', 'Home cLI', 'Run Difference', 'Time Double',\n",
      "       'Year', 'Away cLI', 'Total cLI', 'tavg', 'prcp', 'snow', 'wspd',\n",
      "       'day_num_of_year'],\n",
      "      dtype='object')\n",
      "other_factors rows:  10617\n"
     ]
    }
   ],
   "source": [
    "print(\"Ump_performance columns: \", ump_performance.columns)\n",
    "print(\"ump_performance rows: \", len(ump_performance))\n",
    "print(\"\\n\\nother_factors columns:\", other_factors.columns)\n",
    "print(\"other_factors rows: \", len(other_factors))"
   ]
  },
  {
   "cell_type": "code",
   "execution_count": 13,
   "id": "427bdc3b",
   "metadata": {},
   "outputs": [
    {
     "data": {
      "text/plain": [
       "Index(['game_pk', 'game_date_x', 'game_year', 'umpire_accuracy',\n",
       "       'umpire_consistency', 'home_team', 'post_home_score', 'post_away_score',\n",
       "       'id', 'name', 'Date', 'Home Team', 'Away Team', 'Home Score',\n",
       "       'Away Score', 'Inn', 'Day', 'Attendance', 'Home cLI', 'Run Difference',\n",
       "       'Time Double', 'Year', 'Away cLI', 'Total cLI', 'tavg', 'prcp', 'snow',\n",
       "       'wspd', 'day_num_of_year'],\n",
       "      dtype='object')"
      ]
     },
     "execution_count": 13,
     "metadata": {},
     "output_type": "execute_result"
    }
   ],
   "source": [
    "df = pd.merge(\n",
    "    left = ump_performance,\n",
    "    right = other_factors, \n",
    "    left_on = ['game_date_x', 'home_team', 'post_home_score', 'post_away_score'],\n",
    "    right_on = ['Date', 'Home Team', 'Home Score', 'Away Score']\n",
    ")\n",
    "df.columns"
   ]
  },
  {
   "cell_type": "code",
   "execution_count": 93,
   "id": "cc323f7f",
   "metadata": {},
   "outputs": [],
   "source": [
    "def build_data(year_id, ump_df):\n",
    "    ump_df = ump_df.reset_index()\n",
    "    \n",
    "    #print(year_id)\n",
    "    ump_df['year'] = year_id[0]\n",
    "    ump_df['id'] = year_id[1]\n",
    "    \n",
    "    ump_df['last_accuracy'] = pd.NA\n",
    "    ump_df['last_consistency'] = pd.NA\n",
    "    ump_df['days_between'] = pd.NA\n",
    "    for index in range(1, len(ump_df)):\n",
    "        ump_df.at[index, 'last_accuracy'] = ump_df.iloc[index-1]['umpire_accuracy']\n",
    "        ump_df.at[index, 'last_consistency'] = ump_df.iloc[index-1]['umpire_consistency']\n",
    "        ump_df.at[index, 'days_between'] = \\\n",
    "            ump_df.iloc[index]['day_num_of_year'] - ump_df.iloc[index-1]['day_num_of_year']\n",
    "        \n",
    "    return ump_df[1:]"
   ]
  },
  {
   "cell_type": "code",
   "execution_count": 111,
   "id": "46f18cb6",
   "metadata": {},
   "outputs": [
    {
     "name": "stdout",
     "output_type": "stream",
     "text": [
      "Time elapsed: 4.68 seconds.\n"
     ]
    }
   ],
   "source": [
    "start = time.time()\n",
    "year_groups = df.groupby(by = ['game_year', 'id'])\n",
    "for year, year_df in year_groups.__iter__():\n",
    "    temp = build_data(year, year_df) \n",
    "    #print(temp)\n",
    "time_elapsed =  time.time() - start #Takes ~1/3 of time in parallel\n",
    "print(f\"Time elapsed: {time_elapsed:.2f} seconds.\")  \n",
    "#Evidently I didn't need to make this parallel \n",
    "#but I am proud of myself nonetheless"
   ]
  },
  {
   "cell_type": "code",
   "execution_count": 101,
   "id": "8f1e4067",
   "metadata": {},
   "outputs": [
    {
     "name": "stderr",
     "output_type": "stream",
     "text": [
      "[Parallel(n_jobs=-1)]: Using backend LokyBackend with 8 concurrent workers.\n",
      "[Parallel(n_jobs=-1)]: Done   9 tasks      | elapsed:    0.0s\n",
      "[Parallel(n_jobs=-1)]: Done 377 tasks      | elapsed:    1.1s\n",
      "[Parallel(n_jobs=-1)]: Done 445 out of 460 | elapsed:    1.2s remaining:    0.0s\n",
      "[Parallel(n_jobs=-1)]: Done 460 out of 460 | elapsed:    1.2s finished\n"
     ]
    }
   ],
   "source": [
    "year_groups = df.groupby(by = ['game_year', 'id'])\n",
    "umpire_list = Parallel(n_jobs = -1, verbose = 4)(\n",
    "    delayed(build_data)(year, year_df) for year, year_df in year_groups.__iter__())\n"
   ]
  },
  {
   "cell_type": "code",
   "execution_count": 106,
   "id": "a51e2d15",
   "metadata": {},
   "outputs": [
    {
     "data": {
      "text/plain": [
       "Index(['index', 'game_pk', 'game_date_x', 'game_year', 'umpire_accuracy',\n",
       "       'umpire_consistency', 'home_team', 'post_home_score', 'post_away_score',\n",
       "       'id', 'name', 'Date', 'Home Team', 'Away Team', 'Home Score',\n",
       "       'Away Score', 'Inn', 'Day', 'Attendance', 'Home cLI', 'Run Difference',\n",
       "       'Time Double', 'Year', 'Away cLI', 'Total cLI', 'tavg', 'prcp', 'snow',\n",
       "       'wspd', 'day_num_of_year', 'year', 'last_accuracy', 'last_consistency',\n",
       "       'days_between'],\n",
       "      dtype='object')"
      ]
     },
     "execution_count": 106,
     "metadata": {},
     "output_type": "execute_result"
    }
   ],
   "source": [
    "game_summary = pd.concat(umpire_list, axis = 0, ignore_index = True)\n",
    "game_summary.columns"
   ]
  }
 ],
 "metadata": {
  "kernelspec": {
   "display_name": "Python 3 (ipykernel)",
   "language": "python",
   "name": "python3"
  },
  "language_info": {
   "codemirror_mode": {
    "name": "ipython",
    "version": 3
   },
   "file_extension": ".py",
   "mimetype": "text/x-python",
   "name": "python",
   "nbconvert_exporter": "python",
   "pygments_lexer": "ipython3",
   "version": "3.10.4"
  }
 },
 "nbformat": 4,
 "nbformat_minor": 5
}
